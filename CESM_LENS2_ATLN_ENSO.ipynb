{
 "cells": [
  {
   "cell_type": "markdown",
   "id": "650ed4bd-f36b-4031-b488-a837d3fb03da",
   "metadata": {},
   "source": [
    "# Intro\n",
    "\n",
    "This notebook is to calcuate ATLN and ENSO indices and get a list of years for the phase of each on the CESM LENS2 project\n",
    "\n",
    "how the models show the pattern differences\n",
    "\n",
    "how variability has been changing between \n",
    "\n",
    "regression with precip GPCP version 2.3 1979-2020"
   ]
  },
  {
   "cell_type": "markdown",
   "id": "5b957db3-54a4-4949-853f-477572b5a95b",
   "metadata": {},
   "source": [
    "# Imports"
   ]
  },
  {
   "cell_type": "code",
   "execution_count": null,
   "id": "d57b21c5-4bda-4a1b-8007-90822ce40795",
   "metadata": {
    "scrolled": true
   },
   "outputs": [],
   "source": [
    "import numpy as np\n",
    "import pandas as pd\n",
    "import xarray as xr\n",
    "import matplotlib\n",
    "import matplotlib.pyplot as plt\n",
    "import cftime\n",
    "import dask\n",
    "from dask_jobqueue import PBSCluster\n",
    "from dask.distributed import Client\n",
    "import xeofs as xe\n",
    "import glob\n",
    "from geocat.viz import util as gvutil\n",
    "import cartopy.crs as ccrs\n",
    "import cartopy.feature as cf\n",
    "import cartopy.util as cutil\n",
    "from cartopy.mpl.ticker import LongitudeFormatter, LatitudeFormatter\n",
    "import colormaps as cm\n",
    "import xarray_regrid"
   ]
  },
  {
   "cell_type": "markdown",
   "id": "8c16787c-44cb-48da-94d7-846860920377",
   "metadata": {},
   "source": [
    "# PBSClustter"
   ]
  },
  {
   "cell_type": "code",
   "execution_count": null,
   "id": "38b7d44e-1b3c-4702-ae01-8064ce775b8c",
   "metadata": {
    "scrolled": true
   },
   "outputs": [],
   "source": [
    "# Create a PBS cluster object\n",
    "cluster = PBSCluster(account='P93300313',\n",
    "                     job_name='ATLN-ENSO-CESMLE2',\n",
    "                     cores=1,\n",
    "                     memory='8GiB',\n",
    "                     processes=1,\n",
    "                     walltime='02:00:00',\n",
    "                     queue='casper',\n",
    "                     interface='ext',\n",
    "                     n_workers=1)\n",
    "\n",
    "# dont scale many workers unless using LE\n",
    "# cluster.scale(10)\n",
    "\n",
    "client = Client(cluster)\n",
    "client"
   ]
  },
  {
   "cell_type": "code",
   "execution_count": null,
   "id": "ee613972-2864-463e-ada8-8bb53eab7576",
   "metadata": {
    "scrolled": true
   },
   "outputs": [],
   "source": [
    "cluster.scale(2)"
   ]
  },
  {
   "cell_type": "code",
   "execution_count": null,
   "id": "87c13636-41d5-4045-b9fa-14b46cbfa5a6",
   "metadata": {
    "scrolled": true
   },
   "outputs": [],
   "source": [
    "# client.shutdown()\n",
    "cluster.workers"
   ]
  },
  {
   "cell_type": "markdown",
   "id": "e2b21ddd-94e0-4cbb-b81f-b102c267b176",
   "metadata": {
    "jp-MarkdownHeadingCollapsed": true
   },
   "source": [
    "# Useful functions"
   ]
  },
  {
   "cell_type": "code",
   "execution_count": null,
   "id": "bb5e8464-0bcf-4032-b470-f4e4ba62f7bd",
   "metadata": {
    "scrolled": true
   },
   "outputs": [],
   "source": [
    "def ds_map(ds_to_plt, bounds=[20, -60, 10, -10], name='figure'):\n",
    "    fig, ax = plt.subplots(1, 1,\n",
    "                           subplot_kw={'projection': ccrs.PlateCarree()})\n",
    "    fig.subplots_adjust(hspace=0, wspace=0, top=0.925, left=0.1)\n",
    "    cbar_ax = fig.add_axes([0, 0, 0.1, 0.1])\n",
    "    cdat, clon = cutil.add_cyclic_point(ds_to_plt, ds_to_plt.longitude)\n",
    "\n",
    "    ax.set_title(name)\n",
    "    lat_ticks = np.arange(bounds[3], bounds[2], 5)\n",
    "    lon_ticks = np.arange(bounds[1], bounds[0], 10)\n",
    "    ax.set_xticks(lon_ticks, crs=ccrs.PlateCarree())\n",
    "    ax.set_yticks(lat_ticks, crs=ccrs.PlateCarree())\n",
    "    lon_formatter = LongitudeFormatter(zero_direction_label=True)\n",
    "    lat_formatter = LatitudeFormatter()\n",
    "    ax.xaxis.set_major_formatter(lon_formatter)\n",
    "    ax.yaxis.set_major_formatter(lat_formatter)\n",
    "    ax.add_feature(cf.LAND)\n",
    "\n",
    "    \n",
    "    def resize_colobar(event):\n",
    "        plt.draw()\n",
    "        posn = ax.get_position()\n",
    "        cbar_ax.set_position([posn.x0 + posn.width + 0.01, posn.y0,\n",
    "                              0.04, posn.height])\n",
    "        \n",
    "    ax.set_extent(bounds, ccrs.PlateCarree())\n",
    "    sst_contour = ax.contourf(clon, ds_to_plt.latitude, cdat,\n",
    "                              levels=np.arange(-0.4, 0.5, 0.05),\n",
    "                              # levels=40,\n",
    "                              transform=ccrs.PlateCarree(), cmap='inferno', extend='both')\n",
    "    fig.canvas.mpl_connect('resize_event', resize_colobar)\n",
    "    ax.coastlines()\n",
    "    plt.colorbar(sst_contour, cax=cbar_ax)\n",
    "    resize_colobar(None)\n",
    "    # plt.savefig(name, dpi=300)\n",
    "    plt.show()\n",
    "\n",
    "\n",
    "def detrend_dim(da, dim, deg=1):\n",
    "    # detrend along a single dimension\n",
    "    p = da.polyfit(dim=dim, deg=deg)\n",
    "    fit = xr.polyval(da[dim], p.polyfit_coefficients)\n",
    "    return da - fit\n",
    "\n",
    "\n",
    "def detrend(da, dims, deg=1):\n",
    "    # detrend along multiple dimensions\n",
    "    # only valid for linear detrending (deg=1)\n",
    "    da_detrended = da\n",
    "    for dim in dims:\n",
    "        da_detrended = detrend_dim(da_detrended, dim, deg=deg)\n",
    "    return da_detrended\n",
    "\n",
    "\n",
    "def index_plot(ds1, name1='', threshold=0.5):\n",
    "    lim = 4 * threshold\n",
    "    fig, ax = plt.subplots(figsize=(12, 6))\n",
    "    \n",
    "    ax.plot(ds1.time, ds1, color='black', label=name1)\n",
    "    gvutil.add_major_minor_ticks(ax, x_minor_per_major=15, y_minor_per_major=3, labelsize=20)\n",
    "    \n",
    "    gvutil.set_axes_limits_and_ticks(ax, ylim=(-1*lim, lim))\n",
    "    ax.fill_between(ds1.time, ds1, y2=-threshold,\n",
    "                    where=ds1 < -threshold, color='blue', interpolate=True)\n",
    "    ax.fill_between(ds1.time, ds1, y2=threshold,\n",
    "                    where=ds1> threshold, color='red', interpolate=True)\n",
    "    plt.title(f'{name1}')\n",
    "    ax.set_xlabel('year', fontsize=24)\n",
    "    plt.grid()\n",
    "    plt.show()"
   ]
  },
  {
   "cell_type": "markdown",
   "id": "ef907ca5-18b8-435e-938b-1eec702fec67",
   "metadata": {},
   "source": [
    "# Data Imports"
   ]
  },
  {
   "cell_type": "markdown",
   "id": "28e22471-387c-4277-a700-5dccf04095df",
   "metadata": {
    "jp-MarkdownHeadingCollapsed": true
   },
   "source": [
    "## SST"
   ]
  },
  {
   "cell_type": "code",
   "execution_count": null,
   "id": "e49c1fc8-6ce1-4bee-b957-adb2bfb7b2f0",
   "metadata": {
    "scrolled": true
   },
   "outputs": [],
   "source": [
    "# start with hadisst files\n",
    "ds = xr.open_dataset('/glade/campaign/collections/rda/data/d277003/HadISST_sst.nc.gz').compute()\n",
    "# # CESM SST path\n",
    "# files = glob.glob('/glade/campaign/cgd/cesm/CESM2-LE/timeseries/atm/proc/tseries/month_1/SST/*.nc')\n",
    "# CESM2_ds = xr.openmf_dataset(files)\n",
    "ds"
   ]
  },
  {
   "cell_type": "markdown",
   "id": "74249756-bcea-4fd5-b94f-0deae80bed0b",
   "metadata": {},
   "source": [
    "## Precipitation"
   ]
  },
  {
   "cell_type": "code",
   "execution_count": null,
   "id": "d1263083-bb70-4bae-a067-e08f4e61f14f",
   "metadata": {
    "scrolled": true
   },
   "outputs": [],
   "source": [
    "files = glob.glob('/glade/campaign/collections/rda/data/d728008/gpcp_v3.2_monthly/*/*.nc4')\n",
    "precip = xr.open_mfdataset(files, engine='netcdf4')\n",
    "precip = precip['sat_gauge_precip']\n",
    "precip.compute()"
   ]
  },
  {
   "cell_type": "markdown",
   "id": "991436c8-020d-4e2b-92bc-1f59f6d15626",
   "metadata": {},
   "source": [
    "# Regrid"
   ]
  },
  {
   "cell_type": "code",
   "execution_count": null,
   "id": "fb668287-d831-43f2-83a7-50af2cb0257a",
   "metadata": {},
   "outputs": [],
   "source": [
    "precip.rename({'lat': 'latitude', 'lon': 'longitude'})\n",
    "\n",
    "precip = precip.regrid.linear(ds, time_dim='time')\n",
    "precip.compute()"
   ]
  },
  {
   "cell_type": "markdown",
   "id": "9ab9c3fe-063c-42d6-9f5b-664ba1293d8a",
   "metadata": {},
   "source": [
    "# select data"
   ]
  },
  {
   "cell_type": "code",
   "execution_count": null,
   "id": "6191ded9-8445-4408-8cc9-d41d8a7a018e",
   "metadata": {
    "scrolled": true
   },
   "outputs": [],
   "source": [
    "# selected dates\n",
    "dates = xr.date_range(start='1920-01-16', end='2025-01-16', freq='1ME')\n",
    "# dates = xr.date_range(start='1970-01-16', end='2022-01-16', freq='1ME')\n",
    "ds = ds.sel(time=dates, method='nearest')\n",
    "# select summer\n",
    "# summer_ds = ds.where(ds['time'].dt.month.isin([6, 7, 8]), drop=True)"
   ]
  },
  {
   "cell_type": "code",
   "execution_count": null,
   "id": "464e6704-8b92-44ce-a6d4-ab003887592c",
   "metadata": {
    "scrolled": true
   },
   "outputs": [],
   "source": [
    "# ATL area\n",
    "ATL_hadisst = ds['sst'].sel(latitude=slice(10, -10), longitude=slice(-60, 20)).compute()\n",
    "\n",
    "# ENSO34 area\n",
    "ENSO34_hadisst = ds['sst'].sel(latitude=slice(5, -5), longitude=slice(-170, -120)).compute()"
   ]
  },
  {
   "cell_type": "markdown",
   "id": "9990dc60-4938-484a-9e72-0e833f0f0a80",
   "metadata": {},
   "source": [
    "# ATLN and ENSO indices"
   ]
  },
  {
   "cell_type": "markdown",
   "id": "a74086e2-1aa4-43c4-8b17-f10a219ee959",
   "metadata": {},
   "source": [
    "## ONI Index"
   ]
  },
  {
   "cell_type": "code",
   "execution_count": null,
   "id": "8c50d862-56c3-4197-b044-a0cc3d1b43b2",
   "metadata": {
    "scrolled": true
   },
   "outputs": [],
   "source": [
    "# get weighted latitudes\n",
    "weights = np.cos(np.deg2rad(ENSO34_hadisst.latitude))\n",
    "weights.name = \"weights\""
   ]
  },
  {
   "cell_type": "code",
   "execution_count": null,
   "id": "fa9655c3-0331-4af5-bc80-57ef4eeac021",
   "metadata": {
    "scrolled": true
   },
   "outputs": [],
   "source": [
    "ENSO34_clim = ENSO34_hadisst.groupby(ENSO34_hadisst['time'].dt.month).mean(dim='time').compute()\n",
    "ENSO34_anom = ENSO34_hadisst.groupby(ENSO34_hadisst['time'].dt.month) - ENSO34_clim\n",
    "# all anomaly fields were linearly detrended zhang et al\n",
    "ENSO34_anom_dtrend = detrend_dim(ENSO34_anom, dim='time')"
   ]
  },
  {
   "cell_type": "code",
   "execution_count": null,
   "id": "250806a1-d9bf-421d-828e-8e3dc89ce00c",
   "metadata": {
    "scrolled": true
   },
   "outputs": [],
   "source": [
    "ENSO34_roll = ENSO34_anom_dtrend.rolling(time=3, center=True).mean()\n",
    "ENSO34_index = ENSO34_roll.mean(('longitude', 'latitude'), skipna=True).compute()"
   ]
  },
  {
   "cell_type": "code",
   "execution_count": null,
   "id": "713c5d75-e33d-4e5d-b97d-efb7952073ba",
   "metadata": {
    "scrolled": true
   },
   "outputs": [],
   "source": [
    "# index plot\n",
    "fig, ax = plt.subplots(figsize=(12,6))\n",
    "\n",
    "threshold = 0.5\n",
    "\n",
    "ax.plot(ENSO34_index.time, ENSO34_index, color='black')\n",
    "# gvutil.add_major_minor_ticks(ax, x_minor_per_major=15, y_minor_per_major=3, labelsize=20)\n",
    "\n",
    "# gvutil.set_axes_limits_and_ticks(ax,ylim=(-2., 2.))\n",
    "ax.fill_between(ENSO34_index.time, ENSO34_index,\n",
    "                y2=-threshold, where=ENSO34_index < -threshold,\n",
    "                color='blue', interpolate=True)\n",
    "ax.fill_between(ENSO34_index.time, ENSO34_index,\n",
    "                y2=threshold, where=ENSO34_index > threshold,\n",
    "                color='red', interpolate=True)\n",
    "\n",
    "plt.title('ONI HADISST1.1')\n",
    "ax.set_xlabel('year', fontsize=24)\n",
    "plt.grid()\n",
    "plt.show()"
   ]
  },
  {
   "cell_type": "markdown",
   "id": "f5be61b7-bcd7-4392-943c-966de8cf3f63",
   "metadata": {},
   "source": [
    "## clim and anomalies"
   ]
  },
  {
   "cell_type": "code",
   "execution_count": null,
   "id": "6d3acdac-cf1c-480f-ac0c-59d1b210412b",
   "metadata": {
    "scrolled": true
   },
   "outputs": [],
   "source": [
    "# the mistake was missing the groupby function\n",
    "# all year\n",
    "ATL_clim = ATL_hadisst.groupby(ATL_hadisst['time'].dt.month).mean(dim='time').compute()\n",
    "ATL_anom_pm = ATL_hadisst.groupby(ATL_hadisst['time'].dt.month) - ATL_clim\n",
    "\n",
    "# all anomaly fields were linearly detrended\n",
    "ATL_anom_dtrend = detrend_dim(ATL_anom_pm, dim='time')"
   ]
  },
  {
   "cell_type": "markdown",
   "id": "8891029a-b455-4f4a-867b-7c1198950368",
   "metadata": {},
   "source": [
    "## EOFa"
   ]
  },
  {
   "cell_type": "code",
   "execution_count": null,
   "id": "dd2076a6-49f9-4f0b-a85b-6f5fafdd3490",
   "metadata": {
    "scrolled": true
   },
   "outputs": [],
   "source": [
    "model = xe.single.EOF(n_modes=3, use_coslat=False)\n",
    "# all year climatologies of all data\n",
    "model.fit(ATL_anom_dtrend, dim='time')"
   ]
  },
  {
   "cell_type": "code",
   "execution_count": null,
   "id": "f58bb0fc-9f96-44d4-b63d-36c0a58fc4d1",
   "metadata": {
    "scrolled": true
   },
   "outputs": [],
   "source": [
    "components = model.components()"
   ]
  },
  {
   "cell_type": "code",
   "execution_count": null,
   "id": "df3523a9-9e61-4d3f-9cf3-842280067d25",
   "metadata": {
    "scrolled": true
   },
   "outputs": [],
   "source": [
    "xplained_var = model.explained_variance_ratio().values"
   ]
  },
  {
   "cell_type": "code",
   "execution_count": null,
   "id": "34459ea0-a9e0-4c9b-b7bc-a9fc0a3f88e2",
   "metadata": {
    "scrolled": true
   },
   "outputs": [],
   "source": [
    "# scale by PC std\n",
    "# nomalized in this package is L2 norm not STD\n",
    "PCs = model.scores(normalized=False)\n",
    "\n",
    "# normalized by l2norm true as test\n",
    "# PCs = model.scores()\n",
    "\n",
    "pc_std = PCs.std()\n",
    "pc_mean = PCs.mean()\n",
    "\n",
    "normalized_PCs = (PCs - pc_mean)/ pc_std\n",
    "scaled_EOF = components * pc_std"
   ]
  },
  {
   "cell_type": "code",
   "execution_count": null,
   "id": "ecefc439-230d-4f57-82f4-51cfc5291194",
   "metadata": {
    "scrolled": true
   },
   "outputs": [],
   "source": [
    "j=0\n",
    "for i in scaled_EOF['mode'].values:\n",
    "    mode = scaled_EOF.sel(mode=i)\n",
    "    ds_map(mode, name=f'EOF{i} scaled by PCs STD {xplained_var[j] * 100 }%')\n",
    "    j+=1"
   ]
  },
  {
   "cell_type": "code",
   "execution_count": null,
   "id": "e716fe73-0b01-4296-a56c-883dc42bc0c6",
   "metadata": {
    "scrolled": true
   },
   "outputs": [],
   "source": [
    "PC1 = normalized_PCs.sel(mode=1)\n",
    "PC2 = normalized_PCs.sel(mode=2)\n",
    "PC3 = normalized_PCs.sel(mode=3)\n",
    "# PC4 = normalized_PCs.sel(mode=4)\n",
    "# PC5 = normalized_PCs.sel(mode=5)"
   ]
  },
  {
   "cell_type": "code",
   "execution_count": null,
   "id": "d047dafe-4446-4fa7-adbf-5e9412a1ade2",
   "metadata": {
    "scrolled": true
   },
   "outputs": [],
   "source": [
    "plt.plot(PC1.time, PC1, label='PC1')\n",
    "plt.plot(PC2.time, PC2, label='PC2')\n",
    "plt.plot(PC3.time, PC3, label='PC3')\n",
    "# plt.plot(PC4.time, PC4, label='PC4')\n",
    "# plt.plot(PC5.time, PC5, label='PC5')\n",
    "plt.legend()\n",
    "plt.grid()\n",
    "plt.show()"
   ]
  },
  {
   "cell_type": "markdown",
   "id": "35ac3ab0-2f17-4773-b90e-7676843df362",
   "metadata": {},
   "source": [
    "## EOF differences"
   ]
  },
  {
   "cell_type": "code",
   "execution_count": null,
   "id": "1a829ca2-baa1-45a3-82dc-aeceab78474d",
   "metadata": {
    "scrolled": true
   },
   "outputs": [],
   "source": [
    "EATL = (components.sel(mode=1) + components.sel(mode=3)) / (2 ** 0.5)\n",
    "CATL = (components.sel(mode=1) - components.sel(mode=3)) / (2 ** 0.5)"
   ]
  },
  {
   "cell_type": "code",
   "execution_count": null,
   "id": "8c1633e5-5212-46ac-af81-fdaa2e411746",
   "metadata": {
    "scrolled": true
   },
   "outputs": [],
   "source": [
    "EATLs = (scaled_EOF.sel(mode=1) + scaled_EOF.sel(mode=3)) / (2 ** 0.5)\n",
    "CATLs = (scaled_EOF.sel(mode=1) - scaled_EOF.sel(mode=3)) / (2 ** 0.5)"
   ]
  },
  {
   "cell_type": "code",
   "execution_count": null,
   "id": "ca8dae21-874e-44aa-83e5-2d476726cbba",
   "metadata": {
    "scrolled": true
   },
   "outputs": [],
   "source": [
    "# ds_map(EATL, name=f'EAN pattern')\n",
    "# ds_map(CATL, name=f'CAN pattern')\n",
    "ds_map(EATLs, name=f'EAN scaled pattern')\n",
    "ds_map(CATLs, name=f'CAN scaled pattern')"
   ]
  },
  {
   "cell_type": "markdown",
   "id": "3559f448-33ec-4030-8e42-cc4bc33a407a",
   "metadata": {},
   "source": [
    "## CANI and EANI"
   ]
  },
  {
   "cell_type": "code",
   "execution_count": null,
   "id": "9690b7c7-33b8-4807-b59b-d0f724522831",
   "metadata": {
    "scrolled": true
   },
   "outputs": [],
   "source": [
    "EANI = (PC1 + PC3) / (2 ** 0.5)\n",
    "CANI = (PC1 - PC3) / (2 ** 0.5)\n",
    "# ENSO34_roll = ENSO34_anom_dtrend.rolling(time=3, center=True).mean()\n",
    "# ENSO34_index = ENSO34_roll.mean(('longitude', 'latitude'), skipna=True).compute()\n",
    "EANI_roll = EANI.rolling(time=3, center=True).mean()\n",
    "CANI_roll = CANI.rolling(time=3, center=True).mean()\n",
    "\n",
    "index_plot(EANI_roll, name1='EANI', threshold=1)\n",
    "index_plot(CANI_roll, name2='CANI', threshold=1)"
   ]
  },
  {
   "cell_type": "code",
   "execution_count": null,
   "id": "149308ff-db30-4077-a710-4a2a61d93851",
   "metadata": {
    "scrolled": true
   },
   "outputs": [],
   "source": [
    "EANI_s = EANI_roll.where(EANI['time.season'] == 'JJA')\n",
    "CANI_s = CANI_roll.where(CANI['time.season'] == 'JJA')\n",
    "\n",
    "EANI_p = np.unique(EANI_s.where(EANI >= 1, drop=True).time.dt.year)\n",
    "EANI_n = np.unique(EANI_s.where(EANI <= 1, drop=True).time.dt.year)\n",
    "CANI_p = np.unique(CANI_s.where(CANI >= 1, drop=True).time.dt.year)\n",
    "CANI_n = np.unique(CANI_s.where(CANI >= 1, drop=True).time.dt.year)\n",
    "\n",
    "print(f'EANI positive: {EANI_p}')\n",
    "print(f'EANI negative: {EANI_n}')\n",
    "print(f'CANI positive: {CANI_p}')\n",
    "print(f'CANI negative: {CANI_n}')"
   ]
  },
  {
   "cell_type": "markdown",
   "id": "f2f73fe6-82ed-4d9e-9056-a16d63d7ec05",
   "metadata": {},
   "source": [
    "## Variability"
   ]
  },
  {
   "cell_type": "code",
   "execution_count": null,
   "id": "a95e70ce-c322-46ef-af2f-e0a79b9a9b94",
   "metadata": {
    "scrolled": true
   },
   "outputs": [],
   "source": [
    "EANI_var = EANI.rolling(time=60).var()\n",
    "CANI_var = CANI.rolling(time=60).var()\n",
    "CvE_r = CANI_var / EANI_var\n",
    "\n",
    "plt.figure(figsize=(12, 4))\n",
    "plt.plot(EANI_var.time[:], EANI_var[:], label='EANI Variance', color='blue', linestyle='--')\n",
    "plt.plot(CANI_var.time[:], CANI_var[:], label='CANI Variance', color='orangered', linestyle='--')\n",
    "plt.plot(CvE_r.time, CvE_r, label='Variance ratio C / E', color='black')\n",
    "plt.axline((0, 1), slope=0, color='gray', linestyle='--')\n",
    "plt.legend()\n",
    "plt.show()"
   ]
  },
  {
   "cell_type": "markdown",
   "id": "ad4ce38f-e21c-40c9-a86f-ef9124f360df",
   "metadata": {},
   "source": [
    "# Precipitation"
   ]
  },
  {
   "cell_type": "markdown",
   "id": "490ae5b9-c2af-4685-aa73-c92af1c746a4",
   "metadata": {},
   "source": [
    "## JJA"
   ]
  },
  {
   "cell_type": "code",
   "execution_count": null,
   "id": "93ce2a9b-2874-4203-82c4-c53ce6732263",
   "metadata": {
    "scrolled": true
   },
   "outputs": [],
   "source": [
    "# select summer\n",
    "summer_precip = precip.where(precip['time'].dt.month.isin([6, 7, 8]), drop=True)\n",
    "summer_precip.compute()"
   ]
  }
 ],
 "metadata": {
  "kernelspec": {
   "display_name": "EOFa_2025",
   "language": "python",
   "name": "eofa_2025"
  },
  "language_info": {
   "codemirror_mode": {
    "name": "ipython",
    "version": 3
   },
   "file_extension": ".py",
   "mimetype": "text/x-python",
   "name": "python",
   "nbconvert_exporter": "python",
   "pygments_lexer": "ipython3",
   "version": "3.10.18"
  }
 },
 "nbformat": 4,
 "nbformat_minor": 5
}
