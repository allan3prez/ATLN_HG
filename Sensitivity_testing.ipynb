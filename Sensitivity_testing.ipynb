{
 "cells": [
  {
   "cell_type": "markdown",
   "id": "0365dedd-0d64-4206-8c79-1c90191aee2b",
   "metadata": {},
   "source": [
    "# Imports"
   ]
  },
  {
   "cell_type": "code",
   "execution_count": 1,
   "id": "6e41f756-e23b-48b7-8517-9ce0d22051b8",
   "metadata": {},
   "outputs": [],
   "source": [
    "import numpy as np\n",
    "import pandas as pd\n",
    "import xarray as xr\n",
    "import netCDF4\n",
    "import matplotlib\n",
    "import matplotlib.pyplot as plt\n",
    "from tcpyPI import pi, cape\n",
    "import datetime\n",
    "import cftime\n",
    "import dask\n",
    "import dask.array as da\n",
    "from dask_jobqueue import PBSCluster\n",
    "from dask.distributed import Client\n",
    "from tqdm import tqdm, trange\n",
    "import time\n",
    "import scipy\n",
    "import xesmf as xe"
   ]
  },
  {
   "cell_type": "markdown",
   "id": "8f331b98-085e-4c94-af96-f4455987b40a",
   "metadata": {},
   "source": [
    "# Functions"
   ]
  },
  {
   "cell_type": "code",
   "execution_count": null,
   "id": "fd8042c1-aa85-4aa3-a20e-0b238a1bb542",
   "metadata": {},
   "outputs": [],
   "source": [
    "def calcGP(vor, H, V_pot, V_shear):\n",
    "    # absolute vorticity at 850hPa, RH at 700hPa, Potential Intensity, Vertical wind shear 850hPa and 200hPa\n",
    "    I = (np.sqrt(np.abs(10 ** 5 * vor)) ** 3) * ((H / 50) ** 3) * ((V_pot / 70) ** 3) * ((1 + 0.1 * V_shear) ** (-2))\n",
    "    GP = I.compute()"
   ]
  },
  {
   "cell_type": "markdown",
   "id": "6d0c23b9-f1a2-417f-9048-09d1a65819fd",
   "metadata": {},
   "source": [
    "# Data load and adjustments"
   ]
  },
  {
   "cell_type": "code",
   "execution_count": null,
   "id": "515c49ab-c127-4db8-9dbb-af21dd4ded6e",
   "metadata": {},
   "outputs": [],
   "source": [
    "u = xr.open_dataset('Data/JRA55_033_ugrd.nc', chunks={'time': 12}).astype('float64')\n",
    "v = xr.open_dataset('Data/JRA55_034_vgrd.nc', chunks={'time': 12}).astype('float64')\n",
    "rv = xr.open_dataset('Data/JRA55_043_relv.nc', chunks={'time': 12}).astype('float64')\n",
    "rh = xr.open_dataset('Data/JRA55_052_rh.nc', chunks={'time': 12}).astype('float64')\n",
    "# tmp = xr.open_dataset('Data/JRA55_011_tmp.nc', chunks={'time': 12}).astype('float64')\n",
    "# mix = xr.open_dataset('Data/JRA55_051_spfh.nc', chunks={'time': 12}).astype('float64')\n",
    "# mslp = xr.open_dataset('Data/JRA55_002_prmsl.nc', chunks={'time': 12}).astype('float64')\n",
    "# sst = xr.open_dataset('Data/hadisst.187001-201912.nc',chunks={'time': 12}).astype('float64')"
   ]
  },
  {
   "cell_type": "code",
   "execution_count": null,
   "id": "b52b41d0-dcad-41bc-bdc6-e046d3e4814d",
   "metadata": {},
   "outputs": [],
   "source": [
    "# # adjust time objects in hadisst\n",
    "# sst['time'] = pd.to_datetime(sst['time'], yearfirst=True, format='%Y%m')"
   ]
  },
  {
   "cell_type": "code",
   "execution_count": null,
   "id": "1e6cf7aa-e584-41f2-adad-c7cf0f983aab",
   "metadata": {},
   "outputs": [],
   "source": [
    "# regrid settings\n",
    "grid = 1.25\n",
    "lons = np.arange(0, 360+grid, grid)\n",
    "lats = np.arange(-90, 90 + grid, grid)\n",
    "\n",
    "grid_in = {\"lon\": tmp.longitude.values, \"lat\": tmp.latitude.values}\n",
    "grid_out = {\"lon\" : lons, \"lat\": lats}\n",
    "grid2 = {\"lon\": sst.lon.values, \"lat\": sst.lat.values}\n",
    "\n",
    "re_1to125 = xe.Regridder(grid2, grid_out, \"bilinear\", periodic=True) # Hadisst\n",
    "regridder = xe.Regridder(grid_in, grid_out, \"bilinear\", periodic=True) \n",
    "regridder, re_1to125  # print basic regridder information."
   ]
  },
  {
   "cell_type": "code",
   "execution_count": null,
   "id": "2b5badfb-fc6a-4f22-b6f1-50d063cba4f3",
   "metadata": {},
   "outputs": [],
   "source": [
    "# regrid with dask\n",
    "u = regridder(u).compute()\n",
    "v = regridder(v).compute()\n",
    "rv = regridder(rv).compute()\n",
    "rh = regridder(rh).compute()\n",
    "# tmp = regridder(tmp).compute()\n",
    "# mix = regridder(mix).compute()\n",
    "# mslp = regridder(mslp).compute()\n",
    "# sst = re_1to125(sst).compute()"
   ]
  },
  {
   "cell_type": "code",
   "execution_count": null,
   "id": "6ad41f80-cfed-4fa6-8312-1dcd70d60131",
   "metadata": {},
   "outputs": [],
   "source": [
    "# Select coordinates of interest\n",
    "box = [-100, 20, -20, 40]\n",
    "rv_box = ATLN_box(rv, box).compute()\n",
    "rh_box = ATLN_box(rh, box).compute()\n",
    "u_box = ATLN_box(u, box).compute()\n",
    "v_box = ATLN_box(v, box).compute()\n",
    "# tmp_box = ATLN_box(tmp, box).compute()\n",
    "# mix_box = ATLN_box(mix, box).compute()\n",
    "# mslp_box = ATLN_box(mslp, box).compute()\n",
    "# sst_box = ATLN_box(sst, box).compute()"
   ]
  },
  {
   "cell_type": "code",
   "execution_count": null,
   "id": "78840860-8ffd-4a10-b802-8f904e33ea9b",
   "metadata": {},
   "outputs": [],
   "source": [
    "# define pressure levels\n",
    "pressure_box = u_box['isobaricInhPa']\n",
    "u850 = u_box.sel(isobaricInhPa=850)\n",
    "v850 = v_box.sel(isobaricInhPa=850)\n",
    "u200 = u_box.sel(isobaricInhPa=200)\n",
    "v200 = v_box.sel(isobaricInhPa=200)\n",
    "rh700 = rh_box.sel(isobaricInhPa=700)\n",
    "rv850 = rv_box.sel(isobaricInhPa=850)"
   ]
  },
  {
   "cell_type": "code",
   "execution_count": null,
   "id": "4c87f121-183e-4874-827e-6c2c4ae183c7",
   "metadata": {},
   "outputs": [],
   "source": [
    "# remove unused variables\n",
    "del u, v, rv, rh, rv_box, rh_box, u_box, v_box"
   ]
  },
  {
   "cell_type": "markdown",
   "id": "08fe9ef7-1f15-479b-9859-3c01ceb0b5a1",
   "metadata": {},
   "source": [
    "# Climatologies"
   ]
  },
  {
   "cell_type": "code",
   "execution_count": null,
   "id": "878fd637-1bc3-4b5b-abac-f7001da93f39",
   "metadata": {},
   "outputs": [],
   "source": []
  },
  {
   "cell_type": "markdown",
   "id": "15420693-aa10-4c0c-ae0c-cf14f6a7e2fa",
   "metadata": {},
   "source": [
    "# Calculate"
   ]
  }
 ],
 "metadata": {
  "kernelspec": {
   "display_name": "TC GP with PI env",
   "language": "python",
   "name": "tc_gp-env"
  },
  "language_info": {
   "codemirror_mode": {
    "name": "ipython",
    "version": 3
   },
   "file_extension": ".py",
   "mimetype": "text/x-python",
   "name": "python",
   "nbconvert_exporter": "python",
   "pygments_lexer": "ipython3",
   "version": "3.8.16"
  }
 },
 "nbformat": 4,
 "nbformat_minor": 5
}
