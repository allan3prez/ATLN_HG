{
 "cells": [
  {
   "cell_type": "markdown",
   "id": "84be1b48-76cd-4e66-b2c3-2eb029eb590f",
   "metadata": {},
   "source": [
    "# Precipitation analysis\n",
    "\n",
    "This notebook is to analze and regress precipitaion data with results from ONI, CANI, and EANI."
   ]
  },
  {
   "cell_type": "markdown",
   "id": "efed474e-5f4d-4e2f-af74-e33ef133ad96",
   "metadata": {},
   "source": [
    "# Imports"
   ]
  },
  {
   "cell_type": "code",
   "execution_count": null,
   "id": "34a89ee3-4720-4672-bbc8-6f83d777306e",
   "metadata": {},
   "outputs": [],
   "source": [
    "import numpy as np\n",
    "import pandas as pd\n",
    "import xarray as xr\n",
    "import matplotlib\n",
    "import matplotlib.pyplot as plt\n",
    "import cftime\n",
    "import dask\n",
    "from dask_jobqueue import PBSCluster\n",
    "from dask.distributed import Client\n",
    "import xeofs as xe\n",
    "import glob\n",
    "from geocat.viz import util as gvutil\n",
    "import cartopy.crs as ccrs\n",
    "import cartopy.feature as cf\n",
    "import cartopy.util as cutil\n",
    "from cartopy.mpl.ticker import LongitudeFormatter, LatitudeFormatter"
   ]
  },
  {
   "cell_type": "markdown",
   "id": "8c16787c-44cb-48da-94d7-846860920377",
   "metadata": {},
   "source": [
    "# PBSClustter"
   ]
  },
  {
   "cell_type": "code",
   "execution_count": null,
   "id": "38b7d44e-1b3c-4702-ae01-8064ce775b8c",
   "metadata": {
    "scrolled": true
   },
   "outputs": [],
   "source": [
    "# Create a PBS cluster object\n",
    "cluster = PBSCluster(account='P93300313',\n",
    "                     job_name='ATLN-ENSO-CESMLE2',\n",
    "                     cores=1,\n",
    "                     memory='8GiB',\n",
    "                     processes=1,\n",
    "                     walltime='02:00:00',\n",
    "                     queue='casper',\n",
    "                     interface='ext',\n",
    "                     n_workers=1)\n",
    "\n",
    "# dont scale many workers unless using LE\n",
    "# cluster.scale(10)\n",
    "\n",
    "client = Client(cluster)\n",
    "client"
   ]
  },
  {
   "cell_type": "code",
   "execution_count": null,
   "id": "ee613972-2864-463e-ada8-8bb53eab7576",
   "metadata": {
    "scrolled": true
   },
   "outputs": [],
   "source": [
    "cluster.scale(2)"
   ]
  },
  {
   "cell_type": "code",
   "execution_count": null,
   "id": "87c13636-41d5-4045-b9fa-14b46cbfa5a6",
   "metadata": {
    "scrolled": true
   },
   "outputs": [],
   "source": [
    "# client.shutdown()\n",
    "cluster.workers"
   ]
  },
  {
   "cell_type": "markdown",
   "id": "e2b21ddd-94e0-4cbb-b81f-b102c267b176",
   "metadata": {},
   "source": [
    "# Useful functions"
   ]
  },
  {
   "cell_type": "code",
   "execution_count": null,
   "id": "7110a1a3-9593-4b72-96cd-9cbd80c7c3eb",
   "metadata": {},
   "outputs": [],
   "source": [
    "def detrend_dim(da, dim, deg=1):\n",
    "    # detrend along a single dimension\n",
    "    p = da.polyfit(dim=dim, deg=deg)\n",
    "    fit = xr.polyval(da[dim], p.polyfit_coefficients)\n",
    "    return da - fit\n",
    "\n",
    "\n",
    "def ds_map(ds_to_plt, bounds=[20, -60, 10, -10], name='figure'):\n",
    "    fig, ax = plt.subplots(1, 1,\n",
    "                           subplot_kw={'projection': ccrs.PlateCarree()})\n",
    "    fig.subplots_adjust(hspace=0, wspace=0, top=0.925, left=0.1)\n",
    "    cbar_ax = fig.add_axes([0, 0, 0.1, 0.1])\n",
    "    cdat, clon = cutil.add_cyclic_point(ds_to_plt, ds_to_plt.longitude)\n",
    "\n",
    "    ax.set_title(name)\n",
    "    lat_ticks = np.arange(bounds[3], bounds[2], 5)\n",
    "    lon_ticks = np.arange(bounds[1], bounds[0], 10)\n",
    "    ax.set_xticks(lon_ticks, crs=ccrs.PlateCarree())\n",
    "    ax.set_yticks(lat_ticks, crs=ccrs.PlateCarree())\n",
    "    lon_formatter = LongitudeFormatter(zero_direction_label=True)\n",
    "    lat_formatter = LatitudeFormatter()\n",
    "    ax.xaxis.set_major_formatter(lon_formatter)\n",
    "    ax.yaxis.set_major_formatter(lat_formatter)\n",
    "    ax.add_feature(cf.LAND)"
   ]
  },
  {
   "cell_type": "markdown",
   "id": "ef907ca5-18b8-435e-938b-1eec702fec67",
   "metadata": {},
   "source": [
    "# Data Imports"
   ]
  },
  {
   "cell_type": "code",
   "execution_count": null,
   "id": "d1263083-bb70-4bae-a067-e08f4e61f14f",
   "metadata": {
    "scrolled": true
   },
   "outputs": [],
   "source": [
    "files = glob.glob('/glade/campaign/collections/rda/data/d728008/gpcp_v3.2_monthly/*/*.nc4')\n",
    "precip = xr.open_mfdataset(files, engine='netcdf4')\n",
    "precip = precip['sat_gauge_precip']\n",
    "precip.compute()"
   ]
  },
  {
   "cell_type": "markdown",
   "id": "902769d5-a1a3-41c9-bde2-23c910a6267c",
   "metadata": {},
   "source": [
    "# Results Import"
   ]
  },
  {
   "cell_type": "markdown",
   "id": "991436c8-020d-4e2b-92bc-1f59f6d15626",
   "metadata": {},
   "source": [
    "# Regrid"
   ]
  },
  {
   "cell_type": "code",
   "execution_count": null,
   "id": "fb668287-d831-43f2-83a7-50af2cb0257a",
   "metadata": {
    "scrolled": true
   },
   "outputs": [],
   "source": [
    "# regrid GPCP data to fit with HadiSST results 1x1"
   ]
  },
  {
   "cell_type": "markdown",
   "id": "9ab9c3fe-063c-42d6-9f5b-664ba1293d8a",
   "metadata": {},
   "source": [
    "# select data"
   ]
  },
  {
   "cell_type": "code",
   "execution_count": null,
   "id": "6191ded9-8445-4408-8cc9-d41d8a7a018e",
   "metadata": {
    "scrolled": true
   },
   "outputs": [],
   "source": [
    "# selected dates\n",
    "dates = xr.date_range(start='1920-01-16', end='2025-01-16', freq='1ME')\n",
    "ds = ds.sel(time=dates, method='nearest')\n",
    "# select summer\n",
    "# summer_ds = ds.where(ds['time'].dt.month.isin([6, 7, 8]), drop=True)"
   ]
  },
  {
   "cell_type": "code",
   "execution_count": null,
   "id": "93ce2a9b-2874-4203-82c4-c53ce6732263",
   "metadata": {
    "scrolled": true
   },
   "outputs": [],
   "source": [
    "# select onset MAM\n",
    "mam_precip = precip.where(precip['time'].dt.month.isin([3, 4, 5]), drop=True)\n",
    "mam_precip.compute()\n",
    "# select summer\n",
    "jja_precip = precip.where(precip['time'].dt.month.isin([6, 7, 8]), drop=True)\n",
    "jja_precip.compute()\n",
    "# select SON\n",
    "son_precip = precip.where(precip['time'].dt.month.isin([6, 7, 8]), drop=True)\n",
    "son_precip.compute()"
   ]
  }
 ],
 "metadata": {
  "kernelspec": {
   "display_name": "NPL 2025a",
   "language": "python",
   "name": "npl-2025a"
  },
  "language_info": {
   "codemirror_mode": {
    "name": "ipython",
    "version": 3
   },
   "file_extension": ".py",
   "mimetype": "text/x-python",
   "name": "python",
   "nbconvert_exporter": "python",
   "pygments_lexer": "ipython3",
   "version": "3.12.8"
  }
 },
 "nbformat": 4,
 "nbformat_minor": 5
}
